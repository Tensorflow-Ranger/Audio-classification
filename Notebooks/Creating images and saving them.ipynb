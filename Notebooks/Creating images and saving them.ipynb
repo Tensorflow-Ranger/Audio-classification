{
 "cells": [
  {
   "cell_type": "code",
   "execution_count": 1,
   "metadata": {},
   "outputs": [],
   "source": [
    "import matplotlib.pyplot as plt \n",
    "import librosa \n",
    "import tensorflow as tf\n",
    "import os\n",
    "import numpy as np\n",
    "import librosa.display\n",
    "import json"
   ]
  },
  {
   "cell_type": "code",
   "execution_count": 36,
   "metadata": {},
   "outputs": [
    {
     "ename": "AttributeError",
     "evalue": "'dict' object has no attribute 'dump'",
     "output_type": "error",
     "traceback": [
      "\u001b[1;31m---------------------------------------------------------------------------\u001b[0m",
      "\u001b[1;31mAttributeError\u001b[0m                            Traceback (most recent call last)",
      "\u001b[1;32m<ipython-input-36-1df592fc14b8>\u001b[0m in \u001b[0;36m<module>\u001b[1;34m\u001b[0m\n\u001b[0;32m     25\u001b[0m         \u001b[0mplt\u001b[0m\u001b[1;33m.\u001b[0m\u001b[0mclose\u001b[0m\u001b[1;33m(\u001b[0m\u001b[1;33m)\u001b[0m\u001b[1;33m\u001b[0m\u001b[1;33m\u001b[0m\u001b[0m\n\u001b[0;32m     26\u001b[0m \u001b[1;32mwith\u001b[0m \u001b[0mopen\u001b[0m\u001b[1;33m(\u001b[0m\u001b[1;34m\"image_json.json\"\u001b[0m\u001b[1;33m,\u001b[0m \u001b[1;34m\"w\"\u001b[0m\u001b[1;33m)\u001b[0m \u001b[1;32mas\u001b[0m \u001b[0mfp\u001b[0m\u001b[1;33m:\u001b[0m\u001b[1;33m\u001b[0m\u001b[1;33m\u001b[0m\u001b[0m\n\u001b[1;32m---> 27\u001b[1;33m         \u001b[0mjson\u001b[0m\u001b[1;33m.\u001b[0m\u001b[0mdump\u001b[0m\u001b[1;33m(\u001b[0m\u001b[0mjson\u001b[0m\u001b[1;33m,\u001b[0m \u001b[0mfp\u001b[0m\u001b[1;33m,\u001b[0m \u001b[0mindent\u001b[0m\u001b[1;33m=\u001b[0m\u001b[1;36m4\u001b[0m\u001b[1;33m)\u001b[0m\u001b[1;33m\u001b[0m\u001b[1;33m\u001b[0m\u001b[0m\n\u001b[0m",
      "\u001b[1;31mAttributeError\u001b[0m: 'dict' object has no attribute 'dump'"
     ]
    }
   ],
   "source": [
    "DATASET_PATH = \"C:\\\\Users\\\\Rahul\\\\Desktop\\\\AI\\\\Audio\\\\Classifying music notes\\\\Guitar_chords\"\n",
    "JSON_PATH = \"data.json\"\n",
    "data = \"C:\\\\Users\\\\Rahul\\\\Desktop\\\\AI\\\\Audio\\\\Classifying music notes\\\\Guitar_chords_images\\\\\"\n",
    "chords = [\"a\",\"am\",\"bm\",\"c\",\"d\",\"dm\",\"e\",\"em\",\"f\",\"g\"]\n",
    "plt.ioff()\n",
    "json1 = {\n",
    "        \"mapping\": [],\n",
    "        \"labels\": [],\n",
    "        \"chords\":[\"a\",\"am\",\"bm\",\"c\",\"d\",\"dm\",\"e\",\"em\",\"f\",\"g\"]\n",
    "    }\n",
    "for note in os.listdir(DATASET_PATH):\n",
    "    files_of_each_note = os.listdir(os.path.abspath(os.path.join(DATASET_PATH,note)))\n",
    "    json[\"mapping\"].append(note)\n",
    "    for file in files_of_each_note:\n",
    "        file_path= os.path.abspath(os.path.join(DATASET_PATH,note,file))\n",
    "        file_path= file_path.replace('\\\\','\\\\\\\\')\n",
    "        signal, sample_rate = librosa.load(file_path,sr=None)\n",
    "        melspec = librosa.feature.melspectrogram(y=signal,sr=sample_rate, n_mels=128)\n",
    "        plt.figure(figsize=(12, 6))\n",
    "        melspec = librosa.amplitude_to_db(melspec, ref=np.max)\n",
    "        plt.axis('off')\n",
    "        librosa.display.specshow(melspec, sr=sample_rate, x_axis='time', y_axis='log');\n",
    "        json[\"labels\"].append(chords.index(note))\n",
    "        plt.savefig(data+note+\"\\\\\"+file.replace(\".wav\",\"\")+\".png\")\n",
    "        plt.close()\n",
    "with open(\"image_json.json\", \"w\") as fp:\n",
    "        json.dump(json, fp, indent=4)"
   ]
  },
  {
   "cell_type": "code",
   "execution_count": 7,
   "metadata": {},
   "outputs": [],
   "source": [
    "DATASET_PATH = \"C:\\\\Users\\\\Rahul\\\\Desktop\\\\AI\\\\Audio\\\\Classifying music notes\\\\Guitar_chords\"\n",
    "JSON_PATH = \"data.json\"\n",
    "data = \"C:\\\\Users\\\\Rahul\\\\Desktop\\\\AI\\\\Audio\\\\Classifying music notes\\\\Guitar_chords_images\\\\\"\n",
    "chords = [\"a\",\"am\",\"bm\",\"c\",\"d\",\"dm\",\"e\",\"em\",\"f\",\"g\"]\n",
    "json1 = {\n",
    "        \"mapping\": [],\n",
    "        \"labels\": [],\n",
    "        \"chords\":[\"a\",\"am\",\"bm\",\"c\",\"d\",\"dm\",\"e\",\"em\",\"f\",\"g\"]\n",
    "    }\n",
    "for note in os.listdir(DATASET_PATH):\n",
    "    files_of_each_note = os.listdir(os.path.abspath(os.path.join(DATASET_PATH,note)))\n",
    "    json1[\"mapping\"].append(note)\n",
    "    for file in files_of_each_note:\n",
    "        json1[\"labels\"].append(chords.index(note))\n",
    "with open(\"image_json.json\", \"w\") as fp:\n",
    "        json.dump(json1, fp, indent=4)"
   ]
  },
  {
   "cell_type": "code",
   "execution_count": null,
   "metadata": {},
   "outputs": [],
   "source": []
  }
 ],
 "metadata": {
  "kernelspec": {
   "display_name": "Python 3",
   "language": "python",
   "name": "python3"
  },
  "language_info": {
   "codemirror_mode": {
    "name": "ipython",
    "version": 3
   },
   "file_extension": ".py",
   "mimetype": "text/x-python",
   "name": "python",
   "nbconvert_exporter": "python",
   "pygments_lexer": "ipython3",
   "version": "3.7.3"
  }
 },
 "nbformat": 4,
 "nbformat_minor": 2
}

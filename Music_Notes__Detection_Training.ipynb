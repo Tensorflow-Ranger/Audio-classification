{
  "nbformat": 4,
  "nbformat_minor": 0,
  "metadata": {
    "accelerator": "GPU",
    "colab": {
      "name": "Music_Notes__Detection_Training.ipynb",
      "provenance": [],
      "collapsed_sections": [],
      "include_colab_link": true
    },
    "kernelspec": {
      "display_name": "Python 3",
      "language": "python",
      "name": "python3"
    },
    "language_info": {
      "codemirror_mode": {
        "name": "ipython",
        "version": 3
      },
      "file_extension": ".py",
      "mimetype": "text/x-python",
      "name": "python",
      "nbconvert_exporter": "python",
      "pygments_lexer": "ipython3",
      "version": "3.7.3"
    }
  },
  "cells": [
    {
      "cell_type": "markdown",
      "metadata": {
        "id": "view-in-github",
        "colab_type": "text"
      },
      "source": [
        "<a href=\"https://colab.research.google.com/github/Tensorflow-Ranger/Audio-classification/blob/master/Music_Notes__Detection_Training.ipynb\" target=\"_parent\"><img src=\"https://colab.research.google.com/assets/colab-badge.svg\" alt=\"Open In Colab\"/></a>"
      ]
    },
    {
      "cell_type": "markdown",
      "metadata": {
        "colab_type": "text",
        "id": "Vdnljuk9Qqmw"
      },
      "source": [
        ""
      ]
    },
    {
      "cell_type": "code",
      "metadata": {
        "colab_type": "code",
        "id": "U_1EKTnXQwjx",
        "colab": {}
      },
      "source": [
        "import json\n",
        "import numpy as np\n",
        "import tensorflow as tf\n",
        "import matplotlib.pyplot as plt\n",
        "from sklearn.model_selection import train_test_split\n",
        "import librosa"
      ],
      "execution_count": null,
      "outputs": []
    },
    {
      "cell_type": "code",
      "metadata": {
        "colab_type": "code",
        "id": "F1Pcurh2Qfj4",
        "colab": {}
      },
      "source": [
        "def load_data(data_path):\n",
        "    with open(data_path, \"r\") as fp:\n",
        "        data = json.load(fp)\n",
        "\n",
        "    X = np.array(data[\"MFCCs\"])\n",
        "    y = np.array(data[\"labels\"])\n",
        "    print(\"Training sets loaded!\",X.shape, y.shape)\n",
        "    return X, y\n",
        "\n",
        "\n",
        "def prepare_dataset(data_path, test_size=0.2, validation_size=0.2):\n",
        "    global X_test\n",
        "    # load dataset\n",
        "    X, y = load_data(data_path)\n",
        "\n",
        "    # create train, validation, test split\n",
        "    X_train, X_test, y_train, y_test = train_test_split(X, y, test_size=test_size)\n",
        "    print(X_train[0])\n",
        "    X_train, X_validation, y_train, y_validation = train_test_split(X_train, y_train, test_size=validation_size)\n",
        "\n",
        "    print(X_train.shape,y_train.shape, X_validation.shape, y_validation.shape, X_test.shape, y_test.shape)\n",
        "    return X_train, y_train, X_validation, y_validation, X_test, y_test\n"
      ],
      "execution_count": null,
      "outputs": []
    },
    {
      "cell_type": "code",
      "metadata": {
        "colab_type": "code",
        "id": "XVXLQn__3LAy",
        "colab": {}
      },
      "source": [
        "DATA_PATH = \"data.json\"\n",
        "SAVED_MODEL_PATH = \"model.h5\"\n",
        "EPOCHS = 20\n",
        "BATCH_SIZE = 2\n",
        "PATIENCE = 5\n",
        "LEARNING_RATE = 0.0001\n",
        "loss= \"sparse_categorical_crossentropy\"\n",
        "learning_rate=0.0001\n",
        "input_shape = (44,128)\n",
        "\n",
        "model = tf.keras.models.Sequential()\n",
        "model.add(tf.keras.layers.LSTM(64, input_shape=input_shape, return_sequences=True))\n",
        "model.add(tf.keras.layers.LSTM(64))\n",
        "model.add(tf.keras.layers.Dense(64, activation=\"relu\"))\n",
        "model.add(tf.keras.layers.Dropout(0.4))\n",
        "model.add(tf.keras.layers.Dense(52, activation='softmax'))"
      ],
      "execution_count": null,
      "outputs": []
    },
    {
      "cell_type": "code",
      "metadata": {
        "colab_type": "code",
        "id": "TvIrceztGJsk",
        "colab": {
          "base_uri": "https://localhost:8080/",
          "height": 337
        },
        "outputId": "3fd93266-5d9d-4aad-ebf5-f268fd3a4b0b"
      },
      "source": [
        "optimiser = tf.optimizers.Adam(learning_rate=learning_rate)\n",
        "model.compile(optimizer=optimiser,loss=loss,metrics=[\"accuracy\"])\n",
        "\n",
        "model.summary()"
      ],
      "execution_count": null,
      "outputs": [
        {
          "output_type": "stream",
          "text": [
            "Model: \"sequential_2\"\n",
            "_________________________________________________________________\n",
            "Layer (type)                 Output Shape              Param #   \n",
            "=================================================================\n",
            "lstm_4 (LSTM)                (None, 44, 64)            49408     \n",
            "_________________________________________________________________\n",
            "lstm_5 (LSTM)                (None, 64)                33024     \n",
            "_________________________________________________________________\n",
            "dense_4 (Dense)              (None, 64)                4160      \n",
            "_________________________________________________________________\n",
            "dropout_2 (Dropout)          (None, 64)                0         \n",
            "_________________________________________________________________\n",
            "dense_5 (Dense)              (None, 52)                3380      \n",
            "=================================================================\n",
            "Total params: 89,972\n",
            "Trainable params: 89,972\n",
            "Non-trainable params: 0\n",
            "_________________________________________________________________\n"
          ],
          "name": "stdout"
        }
      ]
    },
    {
      "cell_type": "code",
      "metadata": {
        "colab_type": "code",
        "id": "ebfTYL7mQ_Mv",
        "colab": {}
      },
      "source": [
        "def train(model, epochs, batch_size, patience, X_train, y_train, X_validation, y_validation):\n",
        "    earlystop_callback = tf.keras.callbacks.EarlyStopping(monitor=\"accuracy\", min_delta=0.001, patience=patience)\n",
        "\n",
        "    history = model.fit(X_train,\n",
        "                        y_train,\n",
        "                        epochs=epochs,\n",
        "                        batch_size=batch_size,\n",
        "                        validation_data=(X_validation, y_validation),\n",
        "                        callbacks=[earlystop_callback])\n",
        "    return history"
      ],
      "execution_count": null,
      "outputs": []
    },
    {
      "cell_type": "code",
      "metadata": {
        "colab_type": "code",
        "id": "Czd4hkBvREVl",
        "colab": {}
      },
      "source": [
        "def plot_history(history):\n",
        "    fig, axs = plt.subplots(2)\n",
        "\n",
        "    # create accuracy subplot\n",
        "    axs[0].plot(history.history[\"accuracy\"], label=\"accuracy\")\n",
        "    axs[0].plot(history.history['val_accuracy'], label=\"val_accuracy\")\n",
        "    axs[0].set_ylabel(\"Accuracy\")\n",
        "    axs[0].legend(loc=\"lower right\")\n",
        "    axs[0].set_title(\"Accuracy evaluation\")\n",
        "\n",
        "    # create loss subplot\n",
        "    axs[1].plot(history.history[\"loss\"], label=\"loss\")\n",
        "    axs[1].plot(history.history['val_loss'], label=\"val_loss\")\n",
        "    axs[1].set_xlabel(\"Epoch\")\n",
        "    axs[1].set_ylabel(\"Loss\")\n",
        "    axs[1].legend(loc=\"upper right\")\n",
        "    axs[1].set_title(\"Loss evaluation\")\n",
        "\n",
        "    plt.show()"
      ],
      "execution_count": null,
      "outputs": []
    },
    {
      "cell_type": "code",
      "metadata": {
        "colab_type": "code",
        "id": "jnjhWYiARO_v",
        "colab": {
          "base_uri": "https://localhost:8080/",
          "height": 1000
        },
        "outputId": "a3ef8a59-65c7-4c40-9eae-cf13f99d2f46"
      },
      "source": [
        "X_train, y_train, X_validation, y_validation, X_test, y_test = prepare_dataset(DATA_PATH)\n",
        "print(X_train.shape,y_train.shape, X_validation.shape, y_validation.shape, X_test.shape, y_test.shape)\n",
        "\n",
        "history = train(model, EPOCHS, BATCH_SIZE, PATIENCE, X_train, y_train, X_validation, y_validation)\n",
        "\n",
        "plot_history(history)\n",
        "test_loss, test_acc = model.evaluate(X_test, y_test)\n",
        "print(\"\\nTest loss: {}, test accuracy: {}\".format(test_loss, 100*test_acc))\n",
        "model.save(SAVED_MODEL_PATH)"
      ],
      "execution_count": null,
      "outputs": [
        {
          "output_type": "stream",
          "text": [
            "Training sets loaded! (1972, 44, 128) (1972,)\n",
            "[[-4.73627329 -4.16372108 -5.65888214 ... -8.48569584 -6.81394291\n",
            "  -5.7616272 ]\n",
            " [-4.3183012  -3.95018125 -5.57784271 ... -8.39206314 -6.73754263\n",
            "  -5.68552065]\n",
            " [-3.98428583 -3.60849142 -5.16337204 ... -8.38777065 -6.56696415\n",
            "  -5.94253254]\n",
            " ...\n",
            " [-1.67411494  0.         -2.36426592 ... -8.31357002 -6.31994295\n",
            "  -7.20808411]\n",
            " [-1.9201622   0.         -2.23395205 ... -7.97002363 -6.03449631\n",
            "  -6.95099068]\n",
            " [-2.37156987  0.         -2.04031396 ... -7.71021938 -5.8138938\n",
            "  -6.60633278]]\n",
            "(1261, 44, 128) (1261,) (316, 44, 128) (316,) (395, 44, 128) (395,)\n",
            "(1261, 44, 128) (1261,) (316, 44, 128) (316,) (395, 44, 128) (395,)\n",
            "Epoch 1/20\n",
            "631/631 [==============================] - 53s 84ms/step - loss: 0.5035 - accuracy: 0.8010 - val_loss: 0.5266 - val_accuracy: 0.8196\n",
            "Epoch 2/20\n",
            "631/631 [==============================] - 56s 88ms/step - loss: 0.2420 - accuracy: 0.9072 - val_loss: 0.1908 - val_accuracy: 0.9525\n",
            "Epoch 3/20\n",
            "631/631 [==============================] - 54s 85ms/step - loss: 0.2059 - accuracy: 0.9294 - val_loss: 0.1332 - val_accuracy: 0.9589\n",
            "Epoch 4/20\n",
            "631/631 [==============================] - 55s 88ms/step - loss: 0.1618 - accuracy: 0.9477 - val_loss: 0.1538 - val_accuracy: 0.9304\n",
            "Epoch 5/20\n",
            "631/631 [==============================] - 57s 91ms/step - loss: 0.1286 - accuracy: 0.9643 - val_loss: 0.1421 - val_accuracy: 0.9557\n",
            "Epoch 6/20\n",
            "631/631 [==============================] - 57s 91ms/step - loss: 0.1153 - accuracy: 0.9683 - val_loss: 0.1483 - val_accuracy: 0.9494\n",
            "Epoch 7/20\n",
            "631/631 [==============================] - 59s 94ms/step - loss: 0.1042 - accuracy: 0.9675 - val_loss: 0.0733 - val_accuracy: 0.9684\n",
            "Epoch 8/20\n",
            "631/631 [==============================] - 53s 84ms/step - loss: 0.1355 - accuracy: 0.9635 - val_loss: 0.1374 - val_accuracy: 0.9367\n",
            "Epoch 9/20\n",
            "631/631 [==============================] - 52s 82ms/step - loss: 0.1157 - accuracy: 0.9683 - val_loss: 0.0948 - val_accuracy: 0.9557\n",
            "Epoch 10/20\n",
            "631/631 [==============================] - 57s 90ms/step - loss: 0.0658 - accuracy: 0.9826 - val_loss: 0.0910 - val_accuracy: 0.9684\n",
            "Epoch 11/20\n",
            "631/631 [==============================] - 59s 93ms/step - loss: 0.1026 - accuracy: 0.9667 - val_loss: 0.0928 - val_accuracy: 0.9684\n",
            "Epoch 12/20\n",
            "631/631 [==============================] - 56s 88ms/step - loss: 0.0746 - accuracy: 0.9722 - val_loss: 0.1282 - val_accuracy: 0.9399\n",
            "Epoch 13/20\n",
            "631/631 [==============================] - 47s 75ms/step - loss: 0.0721 - accuracy: 0.9810 - val_loss: 0.0816 - val_accuracy: 0.9747\n",
            "Epoch 14/20\n",
            "631/631 [==============================] - 58s 92ms/step - loss: 0.0432 - accuracy: 0.9865 - val_loss: 0.0404 - val_accuracy: 0.9873\n",
            "Epoch 15/20\n",
            "631/631 [==============================] - 59s 94ms/step - loss: 0.1728 - accuracy: 0.9532 - val_loss: 0.0837 - val_accuracy: 0.9747\n",
            "Epoch 16/20\n",
            "631/631 [==============================] - 58s 92ms/step - loss: 0.0598 - accuracy: 0.9826 - val_loss: 0.0839 - val_accuracy: 0.9684\n",
            "Epoch 17/20\n",
            "631/631 [==============================] - 53s 84ms/step - loss: 0.0550 - accuracy: 0.9826 - val_loss: 0.0614 - val_accuracy: 0.9905\n",
            "Epoch 18/20\n",
            "631/631 [==============================] - 57s 91ms/step - loss: 0.1044 - accuracy: 0.9715 - val_loss: 0.0646 - val_accuracy: 0.9842\n",
            "Epoch 19/20\n",
            "631/631 [==============================] - 57s 90ms/step - loss: 0.0656 - accuracy: 0.9810 - val_loss: 0.0618 - val_accuracy: 0.9747\n"
          ],
          "name": "stdout"
        },
        {
          "output_type": "display_data",
          "data": {
            "image/png": "[encoded data removed]",
            "text/plain": [
              "<Figure size 432x288 with 2 Axes>"
            ]
          },
          "metadata": {
            "tags": [],
            "needs_background": "light"
          }
        },
        {
          "output_type": "stream",
          "text": [
            "13/13 [==============================] - 0s 25ms/step - loss: 0.1269 - accuracy: 0.9646\n",
            "\n",
            "Test loss: 0.12692373991012573, test accuracy: 96.45569324493408\n"
          ],
          "name": "stdout"
        }
      ]
    },
    {
      "cell_type": "code",
      "metadata": {
        "colab_type": "code",
        "id": "C7jKx13M-VdB",
        "colab": {}
      },
      "source": [
        "test_class = [\"a\",\"am\",\"bm\",\"dm\",\"f\",\"g\"]\n",
        "def predict(model,X,num):\n",
        "    X = X[np.newaxis, ...]\n",
        "    prediction = model.predict(X)\n",
        "    predicted_index = np.argmax(prediction, axis=1)\n",
        "    predicted_index = (str(predicted_index)).replace(\"[\",\"\").replace(\"]\",\"\")\n",
        "    print(\"Predicted: \",predicted_index)\n",
        "    print(\"Actually: \",TestY[num])"
      ],
      "execution_count": null,
      "outputs": []
    },
    {
      "cell_type": "code",
      "metadata": {
        "colab_type": "code",
        "id": "thq7aANzaAss",
        "colab": {
          "base_uri": "https://localhost:8080/",
          "height": 90
        },
        "outputId": "1a1344a2-b413-48dc-e15c-a4abbf84a812"
      },
      "source": [
        "testX, TestY = load_data(\"test.json\")\n",
        "print(len(testX), len(TestY))\n",
        "print(X_test[1].shape, testX[1].shape)"
      ],
      "execution_count": null,
      "outputs": [
        {
          "output_type": "stream",
          "text": [
            "Training sets loaded! (17, 44, 128) (17,)\n",
            "17 17\n",
            "(44, 128) (44, 128)\n"
          ],
          "name": "stdout"
        }
      ]
    },
    {
      "cell_type": "code",
      "metadata": {
        "id": "HvEmV6SJmPAs",
        "colab_type": "code",
        "colab": {},
        "outputId": "cd33403e-821f-43d3-ea5c-524d0cc79730"
      },
      "source": [
        "model.evaluate(testX,TestY)"
      ],
      "execution_count": null,
      "outputs": [
        {
          "output_type": "stream",
          "text": [
            "1/1 [==============================] - 0s 4ms/step - loss: 0.4524 - accuracy: 0.7647\n"
          ],
          "name": "stdout"
        },
        {
          "output_type": "execute_result",
          "data": {
            "text/plain": [
              "[0.45237135887145996, 0.7647058963775635]"
            ]
          },
          "metadata": {
            "tags": []
          },
          "execution_count": 28
        }
      ]
    },
    {
      "cell_type": "code",
      "metadata": {
        "colab_type": "code",
        "id": "X_41wWMJer_e",
        "colab": {},
        "outputId": "ff8b9549-1734-473a-9b95-751b83bcaac6"
      },
      "source": [
        "model = tf.keras.models.Sequential()\n",
        "model.add(keras.layers.Conv2D(32, (3, 3), activation='relu', input_shape=input_shape))\n",
        "model.add()"
      ],
      "execution_count": null,
      "outputs": [
        {
          "output_type": "error",
          "ename": "NameError",
          "evalue": "name 'Conv1D' is not defined",
          "traceback": [
            "\u001b[1;31m---------------------------------------------------------------------------\u001b[0m",
            "\u001b[1;31mNameError\u001b[0m                                 Traceback (most recent call last)",
            "\u001b[1;32m<ipython-input-12-9a2703418c3c>\u001b[0m in \u001b[0;36m<module>\u001b[1;34m\u001b[0m\n\u001b[0;32m      1\u001b[0m \u001b[0mmodel\u001b[0m \u001b[1;33m=\u001b[0m \u001b[0mtf\u001b[0m\u001b[1;33m.\u001b[0m\u001b[0mkeras\u001b[0m\u001b[1;33m.\u001b[0m\u001b[0mmodels\u001b[0m\u001b[1;33m.\u001b[0m\u001b[0mSequential\u001b[0m\u001b[1;33m(\u001b[0m\u001b[1;33m)\u001b[0m\u001b[1;33m\u001b[0m\u001b[1;33m\u001b[0m\u001b[0m\n\u001b[1;32m----> 2\u001b[1;33m \u001b[0mmodel\u001b[0m\u001b[1;33m.\u001b[0m\u001b[0madd\u001b[0m\u001b[1;33m(\u001b[0m\u001b[0mConv1D\u001b[0m\u001b[1;33m(\u001b[0m\u001b[0mfilters\u001b[0m\u001b[1;33m=\u001b[0m\u001b[1;36m100\u001b[0m\u001b[1;33m,\u001b[0m\u001b[0mkernel_size\u001b[0m\u001b[1;33m=\u001b[0m\u001b[1;36m4\u001b[0m\u001b[1;33m,\u001b[0m\u001b[0mpadding\u001b[0m\u001b[1;33m=\u001b[0m\u001b[1;34m'same'\u001b[0m\u001b[1;33m,\u001b[0m \u001b[0mactivation\u001b[0m\u001b[1;33m=\u001b[0m\u001b[1;34m'relu'\u001b[0m\u001b[1;33m)\u001b[0m\u001b[1;33m)\u001b[0m\u001b[1;33m\u001b[0m\u001b[1;33m\u001b[0m\u001b[0m\n\u001b[0m",
            "\u001b[1;31mNameError\u001b[0m: name 'Conv1D' is not defined"
          ]
        }
      ]
    }
  ]
}
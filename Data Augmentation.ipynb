{
 "cells": [
  {
   "cell_type": "code",
   "execution_count": 64,
   "metadata": {},
   "outputs": [],
   "source": [
    "import audiomentations as am\n",
    "from audiomentations import Compose, AddGaussianNoise, TimeStretch, PitchShift, Shift\n",
    "import numpy as np\n",
    "import os "
   ]
  },
  {
   "cell_type": "code",
   "execution_count": 66,
   "metadata": {},
   "outputs": [],
   "source": [
    "data = \"C:\\\\Users\\\\Rahul\\\\Desktop\\\\AI\\\\Audio\\\\Classifying music notes\\\\Data\"\n",
    "augmenter1 = Compose([\n",
    "    AddGaussianNoise(min_amplitude=0.001, max_amplitude=0.15, p=0.5)\n",
    "])\n",
    "augmenter2 = Compose([\n",
    "    TimeStretch(min_rate=0.4, max_rate=1.0, p=0.5),\n",
    "])\n",
    "\n",
    "augmenter3 = Compose([\n",
    "    Shift(min_fraction=-0.5, max_fraction=0.5, p=0.5),\n",
    "])\n",
    "augmenter4 = Compose([\n",
    "    am.AddGaussianSNR(min_SNR=0.001, max_SNR=0.1, p=0.5),\n",
    "])\n",
    "\n",
    "audio, sample_rate = librosa.load(\"A1 61 key Piano (mp3cut.net).wav\", sr=None) \n",
    "samples = augmenter4(samples=audio, sample_rate=sample_rate)"
   ]
  },
  {
   "cell_type": "code",
   "execution_count": 61,
   "metadata": {},
   "outputs": [],
   "source": [
    "librosa.output.write_wav('data\\gausian_snr.wav', samples, sample_rate)"
   ]
  },
  {
   "cell_type": "code",
   "execution_count": 65,
   "metadata": {},
   "outputs": [],
   "source": [
    "for note in os.listdir(data):\n",
    "    files_of_each_note = os.listdir(os.path.abspath(os.path.join(data,note)))\n",
    "    for file in files_of_each_note:\n",
    "        file_name= os.path.abspath(os.path.join(data,note,file.remove(\".wav\",\"\"))\n",
    "        audio, sample_rate = librosa.load(file_name, sr=None) \n",
    "        samples = augmenter1(samples=audio, sample_rate=sample_rate)\n",
    "        samples = augmenter2(samples=audio, sample_rate=sample_rate)\n",
    "        samples = augmenter3(samples=audio, sample_rate=sample_rate)\n",
    "        samples = augmenter4(samples=audio, sample_rate=sample_rate)"
   ]
  },
  {
   "cell_type": "code",
   "execution_count": null,
   "metadata": {},
   "outputs": [],
   "source": []
  }
 ],
 "metadata": {
  "kernelspec": {
   "display_name": "Python 3",
   "language": "python",
   "name": "python3"
  },
  "language_info": {
   "codemirror_mode": {
    "name": "ipython",
    "version": 3
   },
   "file_extension": ".py",
   "mimetype": "text/x-python",
   "name": "python",
   "nbconvert_exporter": "python",
   "pygments_lexer": "ipython3",
   "version": "3.5.6"
  }
 },
 "nbformat": 4,
 "nbformat_minor": 4
}
